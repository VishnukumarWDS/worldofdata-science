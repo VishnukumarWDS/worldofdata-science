{
 "cells": [
  {
   "cell_type": "markdown",
   "id": "ff393128",
   "metadata": {},
   "source": [
    "# PYTHON PROGRAMMING "
   ]
  },
  {
   "cell_type": "markdown",
   "id": "e7a376d9",
   "metadata": {},
   "source": [
    "### Python is a High-level ,general purpose programming language and it is highly used at Big Tech Companys like Google, Microsoft, Infosys,Apple,etc"
   ]
  },
  {
   "cell_type": "code",
   "execution_count": 6,
   "id": "a7fada7a",
   "metadata": {},
   "outputs": [
    {
     "name": "stdout",
     "output_type": "stream",
     "text": [
      "Hello world\n"
     ]
    }
   ],
   "source": [
    "print(\"Hello world\")"
   ]
  },
  {
   "cell_type": "code",
   "execution_count": 3,
   "id": "5067c870",
   "metadata": {},
   "outputs": [
    {
     "name": "stdout",
     "output_type": "stream",
     "text": [
      "12345\n"
     ]
    }
   ],
   "source": [
    "print(\"12345\")"
   ]
  },
  {
   "cell_type": "markdown",
   "id": "2027b4c6",
   "metadata": {},
   "source": [
    "### Variables"
   ]
  },
  {
   "cell_type": "code",
   "execution_count": 42,
   "id": "6f005ce8",
   "metadata": {},
   "outputs": [],
   "source": [
    "# variable are used to store the Data "
   ]
  },
  {
   "cell_type": "code",
   "execution_count": 4,
   "id": "7e5f434d",
   "metadata": {},
   "outputs": [
    {
     "name": "stdout",
     "output_type": "stream",
     "text": [
      "Welcome to world of Data and Science\n"
     ]
    }
   ],
   "source": [
    "var = \"Welcome to world of Data and Science\"\n",
    "print(var)"
   ]
  },
  {
   "cell_type": "code",
   "execution_count": 5,
   "id": "e5c36be6",
   "metadata": {},
   "outputs": [
    {
     "name": "stdout",
     "output_type": "stream",
     "text": [
      "\n"
     ]
    }
   ],
   "source": [
    "var1 = \"12345678\"\n",
    "print()"
   ]
  },
  {
   "cell_type": "code",
   "execution_count": null,
   "id": "318cf86d",
   "metadata": {},
   "outputs": [],
   "source": [
    "# type define the Datatype "
   ]
  },
  {
   "cell_type": "code",
   "execution_count": 7,
   "id": "2f554fc1",
   "metadata": {},
   "outputs": [
    {
     "name": "stdout",
     "output_type": "stream",
     "text": [
      "<class 'str'>\n"
     ]
    }
   ],
   "source": [
    "print(type(var1))"
   ]
  },
  {
   "cell_type": "code",
   "execution_count": 8,
   "id": "f7a9a5c6",
   "metadata": {},
   "outputs": [
    {
     "name": "stdout",
     "output_type": "stream",
     "text": [
      "25\n"
     ]
    }
   ],
   "source": [
    "var2 = 25\n",
    "print(var2)"
   ]
  },
  {
   "cell_type": "code",
   "execution_count": 9,
   "id": "ef56ab41",
   "metadata": {},
   "outputs": [
    {
     "name": "stdout",
     "output_type": "stream",
     "text": [
      "<class 'int'>\n"
     ]
    }
   ],
   "source": [
    "print(type(var2))"
   ]
  },
  {
   "cell_type": "code",
   "execution_count": 46,
   "id": "24e5037f",
   "metadata": {
    "scrolled": false
   },
   "outputs": [
    {
     "name": "stdout",
     "output_type": "stream",
     "text": [
      "34\n",
      "24\n",
      "145\n",
      "5\n",
      "4\n"
     ]
    }
   ],
   "source": [
    "# variable are used for simple calculation \n",
    "v1 = 29\n",
    "v2 = 5 \n",
    "print(v1+v2)     # Addition \n",
    "print(v1-v2)     # Substraction \n",
    "print(v1*v2)    # Multiplication \n",
    "print(v1//v2)   # division \n",
    "print(v1%v2)    # reminder \n"
   ]
  },
  {
   "cell_type": "code",
   "execution_count": 48,
   "id": "38359742",
   "metadata": {},
   "outputs": [
    {
     "name": "stdout",
     "output_type": "stream",
     "text": [
      "102\n"
     ]
    }
   ],
   "source": [
    "# we can multiply the int and string etc\n",
    "var_1 = 34\n",
    "print(var_1*3)"
   ]
  },
  {
   "cell_type": "code",
   "execution_count": 50,
   "id": "e575948c",
   "metadata": {},
   "outputs": [
    {
     "name": "stdout",
     "output_type": "stream",
     "text": [
      "HelloHelloHelloHelloHello\n"
     ]
    }
   ],
   "source": [
    "var_2 = \"Hello\"\n",
    "print(var_2*5)"
   ]
  },
  {
   "cell_type": "code",
   "execution_count": 31,
   "id": "df0c6cdd",
   "metadata": {},
   "outputs": [],
   "source": [
    "# len define the length of the given Data "
   ]
  },
  {
   "cell_type": "code",
   "execution_count": 39,
   "id": "53b99982",
   "metadata": {},
   "outputs": [
    {
     "data": {
      "text/plain": [
       "11"
      ]
     },
     "execution_count": 39,
     "metadata": {},
     "output_type": "execute_result"
    }
   ],
   "source": [
    "len(\"Hello world\")"
   ]
  },
  {
   "cell_type": "code",
   "execution_count": 41,
   "id": "1cd9cae0",
   "metadata": {},
   "outputs": [],
   "source": [
    "# The len function will also count space so, avoid space "
   ]
  },
  {
   "cell_type": "code",
   "execution_count": 40,
   "id": "ad1492c9",
   "metadata": {},
   "outputs": [
    {
     "data": {
      "text/plain": [
       "10"
      ]
     },
     "execution_count": 40,
     "metadata": {},
     "output_type": "execute_result"
    }
   ],
   "source": [
    "len(\"Helloworld\")"
   ]
  },
  {
   "cell_type": "markdown",
   "id": "c45b4988",
   "metadata": {},
   "source": [
    "# Data Type"
   ]
  },
  {
   "cell_type": "raw",
   "id": "90577c6a",
   "metadata": {},
   "source": [
    "1.  Integer\n",
    "2.  Float\n",
    "3.  Complex\n",
    "4.  List\n",
    "5.  Set\n",
    "6.  Tuple\n",
    "7.  Dictionary\n",
    "8.  Boolen\n",
    "9.  Bytes, Bytearray,etc"
   ]
  },
  {
   "cell_type": "code",
   "execution_count": 14,
   "id": "2e89a3de",
   "metadata": {},
   "outputs": [],
   "source": [
    "# This represent Comment.\n",
    "# After writing anything after the comments will not be runed and as same."
   ]
  },
  {
   "cell_type": "code",
   "execution_count": 1,
   "id": "0c56f813",
   "metadata": {},
   "outputs": [],
   "source": [
    "# Integer"
   ]
  },
  {
   "cell_type": "code",
   "execution_count": 2,
   "id": "f9c74e8d",
   "metadata": {},
   "outputs": [
    {
     "name": "stdout",
     "output_type": "stream",
     "text": [
      "25\n"
     ]
    }
   ],
   "source": [
    "a = 25\n",
    "print(a)"
   ]
  },
  {
   "cell_type": "code",
   "execution_count": 4,
   "id": "861dd485",
   "metadata": {},
   "outputs": [
    {
     "name": "stdout",
     "output_type": "stream",
     "text": [
      "<class 'int'>\n"
     ]
    }
   ],
   "source": [
    "print(type(a))"
   ]
  },
  {
   "cell_type": "code",
   "execution_count": 8,
   "id": "2bb0632f",
   "metadata": {},
   "outputs": [],
   "source": [
    "# Float"
   ]
  },
  {
   "cell_type": "code",
   "execution_count": 6,
   "id": "577b846a",
   "metadata": {},
   "outputs": [
    {
     "name": "stdout",
     "output_type": "stream",
     "text": [
      "2.5\n"
     ]
    }
   ],
   "source": [
    "b= 2.5\n",
    "print(b)"
   ]
  },
  {
   "cell_type": "code",
   "execution_count": 7,
   "id": "d8d472e9",
   "metadata": {},
   "outputs": [
    {
     "name": "stdout",
     "output_type": "stream",
     "text": [
      "<class 'float'>\n"
     ]
    }
   ],
   "source": [
    "print(type(b))"
   ]
  },
  {
   "cell_type": "code",
   "execution_count": 9,
   "id": "2497195d",
   "metadata": {},
   "outputs": [],
   "source": [
    "# complex"
   ]
  },
  {
   "cell_type": "code",
   "execution_count": 10,
   "id": "224644a7",
   "metadata": {},
   "outputs": [
    {
     "name": "stdout",
     "output_type": "stream",
     "text": [
      "(8+10j)\n"
     ]
    }
   ],
   "source": [
    "c = 8 + 10j\n",
    "print(c)"
   ]
  },
  {
   "cell_type": "code",
   "execution_count": 11,
   "id": "1e8af370",
   "metadata": {},
   "outputs": [
    {
     "name": "stdout",
     "output_type": "stream",
     "text": [
      "<class 'complex'>\n"
     ]
    }
   ],
   "source": [
    "print(type(c))\n"
   ]
  },
  {
   "cell_type": "code",
   "execution_count": 23,
   "id": "87fbc41f",
   "metadata": {},
   "outputs": [],
   "source": [
    "# we can change float to int ,int to float ."
   ]
  },
  {
   "cell_type": "code",
   "execution_count": 24,
   "id": "647c4c18",
   "metadata": {},
   "outputs": [],
   "source": [
    "# float to int"
   ]
  },
  {
   "cell_type": "code",
   "execution_count": 20,
   "id": "66d8e91e",
   "metadata": {
    "scrolled": true
   },
   "outputs": [
    {
     "name": "stdout",
     "output_type": "stream",
     "text": [
      "25.677\n"
     ]
    }
   ],
   "source": [
    "x= 25.677\n",
    "print(x)"
   ]
  },
  {
   "cell_type": "code",
   "execution_count": 22,
   "id": "67501a1c",
   "metadata": {},
   "outputs": [
    {
     "name": "stdout",
     "output_type": "stream",
     "text": [
      "<class 'float'>\n"
     ]
    }
   ],
   "source": [
    "print(type(x))"
   ]
  },
  {
   "cell_type": "code",
   "execution_count": 17,
   "id": "960c0c0a",
   "metadata": {},
   "outputs": [],
   "source": [
    "y= int(x)"
   ]
  },
  {
   "cell_type": "code",
   "execution_count": 21,
   "id": "d3e30164",
   "metadata": {},
   "outputs": [
    {
     "name": "stdout",
     "output_type": "stream",
     "text": [
      "25\n",
      "<class 'int'>\n"
     ]
    }
   ],
   "source": [
    "print(y)\n",
    "print(type(y))"
   ]
  },
  {
   "cell_type": "code",
   "execution_count": 25,
   "id": "fb790dce",
   "metadata": {},
   "outputs": [],
   "source": [
    "# int to float"
   ]
  },
  {
   "cell_type": "code",
   "execution_count": 28,
   "id": "1e1644fa",
   "metadata": {},
   "outputs": [
    {
     "name": "stdout",
     "output_type": "stream",
     "text": [
      "25\n",
      "<class 'int'>\n"
     ]
    }
   ],
   "source": [
    "print(y)\n",
    "print(type(y))"
   ]
  },
  {
   "cell_type": "code",
   "execution_count": 27,
   "id": "c545dd6f",
   "metadata": {},
   "outputs": [
    {
     "name": "stdout",
     "output_type": "stream",
     "text": [
      "25.0\n"
     ]
    }
   ],
   "source": [
    "z = float(y)\n",
    "print(z)"
   ]
  },
  {
   "cell_type": "code",
   "execution_count": 29,
   "id": "46fc3a02",
   "metadata": {},
   "outputs": [
    {
     "name": "stdout",
     "output_type": "stream",
     "text": [
      "<class 'float'>\n"
     ]
    }
   ],
   "source": [
    "print(type(z))"
   ]
  }
 ],
 "metadata": {
  "kernelspec": {
   "display_name": "Python 3 (ipykernel)",
   "language": "python",
   "name": "python3"
  },
  "language_info": {
   "codemirror_mode": {
    "name": "ipython",
    "version": 3
   },
   "file_extension": ".py",
   "mimetype": "text/x-python",
   "name": "python",
   "nbconvert_exporter": "python",
   "pygments_lexer": "ipython3",
   "version": "3.9.7"
  }
 },
 "nbformat": 4,
 "nbformat_minor": 5
}
