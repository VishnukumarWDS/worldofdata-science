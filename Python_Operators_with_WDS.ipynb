{
  "nbformat": 4,
  "nbformat_minor": 0,
  "metadata": {
    "colab": {
      "provenance": []
    },
    "kernelspec": {
      "name": "python3",
      "display_name": "Python 3"
    },
    "language_info": {
      "name": "python"
    }
  },
  "cells": [
    {
      "cell_type": "markdown",
      "source": [
        "Basic Arithmetic Operations"
      ],
      "metadata": {
        "id": "jdJ1HhKofC0-"
      }
    },
    {
      "cell_type": "code",
      "source": [
        "a=5\n",
        "b=2.7\n",
        "print(a+b)"
      ],
      "metadata": {
        "colab": {
          "base_uri": "https://localhost:8080/"
        },
        "id": "XOw4bKcLfOeh",
        "outputId": "db610ec3-4eea-439e-b244-b0429a68787f"
      },
      "execution_count": 1,
      "outputs": [
        {
          "output_type": "stream",
          "name": "stdout",
          "text": [
            "7.7\n"
          ]
        }
      ]
    },
    {
      "cell_type": "code",
      "source": [
        "c=a+b\n",
        "print(c)"
      ],
      "metadata": {
        "colab": {
          "base_uri": "https://localhost:8080/"
        },
        "id": "m33BHDBTfaJA",
        "outputId": "6e91f348-bb6d-4d71-8357-6dd93f31daa0"
      },
      "execution_count": 2,
      "outputs": [
        {
          "output_type": "stream",
          "name": "stdout",
          "text": [
            "7.7\n"
          ]
        }
      ]
    },
    {
      "cell_type": "code",
      "source": [
        "t=1.5\n",
        "s=7\n",
        "voot_kids=(t*s) # division"
      ],
      "metadata": {
        "id": "mhCtpquMfaN1"
      },
      "execution_count": 4,
      "outputs": []
    },
    {
      "cell_type": "code",
      "source": [
        "print(voot_kids)"
      ],
      "metadata": {
        "colab": {
          "base_uri": "https://localhost:8080/"
        },
        "id": "sLIPzJDcfaQu",
        "outputId": "5d306bcb-dc00-437d-afef-64ca6bcd6626"
      },
      "execution_count": 5,
      "outputs": [
        {
          "output_type": "stream",
          "name": "stdout",
          "text": [
            "10.5\n"
          ]
        }
      ]
    },
    {
      "cell_type": "code",
      "source": [
        "p=7\n",
        "q=3\n",
        "print(p/q)    # division\n",
        "print(p*q)    # multiplication\n",
        "print(p**q)   # Power value or square root\n",
        "print(p+q)    # addition\n",
        "print(p-q)    # substraction\n"
      ],
      "metadata": {
        "colab": {
          "base_uri": "https://localhost:8080/"
        },
        "id": "SgODLzv6faaz",
        "outputId": "59552344-a0e1-4efd-d8dc-a5257d138368"
      },
      "execution_count": 6,
      "outputs": [
        {
          "output_type": "stream",
          "name": "stdout",
          "text": [
            "2.3333333333333335\n",
            "21\n",
            "343\n",
            "10\n",
            "4\n"
          ]
        }
      ]
    },
    {
      "cell_type": "markdown",
      "source": [
        "#### Complex"
      ],
      "metadata": {
        "id": "ZuIvAKGgf0T-"
      }
    },
    {
      "cell_type": "code",
      "source": [
        "comp=4+2j       #  number\n",
        "print(type(comp))"
      ],
      "metadata": {
        "colab": {
          "base_uri": "https://localhost:8080/"
        },
        "id": "PMC761LDfyLK",
        "outputId": "07672413-bd14-4da5-98f7-915ca719e0bd"
      },
      "execution_count": 7,
      "outputs": [
        {
          "output_type": "stream",
          "name": "stdout",
          "text": [
            "<class 'complex'>\n"
          ]
        }
      ]
    },
    {
      "cell_type": "code",
      "source": [
        "comp1=4+8j     # arithmetic\n",
        "print(comp+comp1)\n",
        "print(comp-comp1)"
      ],
      "metadata": {
        "colab": {
          "base_uri": "https://localhost:8080/"
        },
        "id": "-lb9CzPYfyNz",
        "outputId": "c5f28e2c-d364-4309-8d30-a120426042b3"
      },
      "execution_count": 8,
      "outputs": [
        {
          "output_type": "stream",
          "name": "stdout",
          "text": [
            "(8+10j)\n",
            "-6j\n"
          ]
        }
      ]
    },
    {
      "cell_type": "markdown",
      "source": [
        "### Boolean"
      ],
      "metadata": {
        "id": "JquDGM9XgCl3"
      }
    },
    {
      "cell_type": "code",
      "source": [
        "print(type(True))"
      ],
      "metadata": {
        "colab": {
          "base_uri": "https://localhost:8080/"
        },
        "id": "inJPwYqwfyQ8",
        "outputId": "aa319923-c4b9-4c99-d073-a80ea7ecb1bf"
      },
      "execution_count": 9,
      "outputs": [
        {
          "output_type": "stream",
          "name": "stdout",
          "text": [
            "<class 'bool'>\n"
          ]
        }
      ]
    },
    {
      "cell_type": "code",
      "source": [
        "print(type(False))"
      ],
      "metadata": {
        "colab": {
          "base_uri": "https://localhost:8080/"
        },
        "id": "qJvbx8cXfyVP",
        "outputId": "b3852e5e-10da-47bd-80ac-847b72b78643"
      },
      "execution_count": 10,
      "outputs": [
        {
          "output_type": "stream",
          "name": "stdout",
          "text": [
            "<class 'bool'>\n"
          ]
        }
      ]
    },
    {
      "cell_type": "markdown",
      "source": [
        "### Strings"
      ],
      "metadata": {
        "id": "90XRZA9DgVeT"
      }
    },
    {
      "cell_type": "code",
      "source": [
        "str1=\"Welcome you all for \"\n",
        "print(str1)\n",
        "print(type(str1))"
      ],
      "metadata": {
        "colab": {
          "base_uri": "https://localhost:8080/"
        },
        "id": "Y9p229ljgSNM",
        "outputId": "7268633c-4ea1-41fb-ef11-e9479e2f98fa"
      },
      "execution_count": 11,
      "outputs": [
        {
          "output_type": "stream",
          "name": "stdout",
          "text": [
            "Welcome you all for \n",
            "<class 'str'>\n"
          ]
        }
      ]
    },
    {
      "cell_type": "code",
      "source": [
        "print(str1[0])\n",
        "print(str1[1])\n",
        "print(str1[2])\n",
        "print(str1[3])\n",
        "print(str1[4])\n",
        "print(str1[5])\n",
        "print(str1[6])"
      ],
      "metadata": {
        "colab": {
          "base_uri": "https://localhost:8080/"
        },
        "id": "Kg-a4su0gSTb",
        "outputId": "8ecb8269-a9d6-41bc-ad08-f0122b8068e5"
      },
      "execution_count": 12,
      "outputs": [
        {
          "output_type": "stream",
          "name": "stdout",
          "text": [
            "W\n",
            "e\n",
            "l\n",
            "c\n",
            "o\n",
            "m\n",
            "e\n"
          ]
        }
      ]
    },
    {
      "cell_type": "code",
      "source": [
        "str2 =\"world of data and science\"\n",
        "print(str1+str2)"
      ],
      "metadata": {
        "colab": {
          "base_uri": "https://localhost:8080/"
        },
        "id": "EasS50zxgSX6",
        "outputId": "57bae649-bc19-4ba4-fea0-1d9cfada8c7f"
      },
      "execution_count": 13,
      "outputs": [
        {
          "output_type": "stream",
          "name": "stdout",
          "text": [
            "Welcome you all for world of data and science\n"
          ]
        }
      ]
    },
    {
      "cell_type": "markdown",
      "source": [
        "### Logical operations"
      ],
      "metadata": {
        "id": "t6AWXORDgoEn"
      }
    },
    {
      "cell_type": "markdown",
      "source": [
        "#### AND logical operations"
      ],
      "metadata": {
        "id": "1kwju4Ysg7lW"
      }
    },
    {
      "cell_type": "code",
      "source": [
        "#And gate in python\n",
        "\n",
        "str0=True\n",
        "str1=False\n",
        "print(str0 and str1)\n",
        "\n",
        "str2=True \n",
        "str3=True\n",
        "print(str2 and str3)\n",
        "\n",
        "str4=False\n",
        "str5=True\n",
        "print(str4 and str5)\n",
        "\n",
        "str6=False\n",
        "str7=True\n",
        "print(str6 and str7)\n",
        "\n"
      ],
      "metadata": {
        "colab": {
          "base_uri": "https://localhost:8080/"
        },
        "id": "U_OguybcgShg",
        "outputId": "28b76102-e175-4d35-ad14-2cc35e60b42b"
      },
      "execution_count": 15,
      "outputs": [
        {
          "output_type": "stream",
          "name": "stdout",
          "text": [
            "False\n",
            "True\n",
            "False\n",
            "False\n"
          ]
        }
      ]
    },
    {
      "cell_type": "markdown",
      "source": [
        "### OR Logical operations"
      ],
      "metadata": {
        "id": "gLPGC_9MhMgz"
      }
    },
    {
      "cell_type": "code",
      "source": [
        "\n",
        "\n",
        "str0=False\n",
        "str1=True\n",
        "print(str0 or str1)\n",
        "\n",
        "\n",
        "str2=False\n",
        "str3=False\n",
        "print(str2 or str3)\n",
        "\n",
        "\n",
        "\n",
        "str4=True\n",
        "str5=False\n",
        "print(str4 or str5)\n",
        "\n",
        "\n",
        "str6=True\n",
        "str7=True\n",
        "print(str6 or str7)\n"
      ],
      "metadata": {
        "colab": {
          "base_uri": "https://localhost:8080/"
        },
        "id": "me2ZoZephOtY",
        "outputId": "19c0edfe-8cfe-4dd2-db55-5c13e8cfc50d"
      },
      "execution_count": 16,
      "outputs": [
        {
          "output_type": "stream",
          "name": "stdout",
          "text": [
            "True\n",
            "False\n",
            "True\n",
            "True\n"
          ]
        }
      ]
    },
    {
      "cell_type": "markdown",
      "source": [
        "### NOT Logical Operations"
      ],
      "metadata": {
        "id": "kWs47yx_hYv0"
      }
    },
    {
      "cell_type": "code",
      "source": [
        "str8=True \n",
        "str9=True\n",
        "result=str8 and str9\n",
        "print(result)"
      ],
      "metadata": {
        "colab": {
          "base_uri": "https://localhost:8080/"
        },
        "id": "tJgGLMuchOya",
        "outputId": "14e272b3-60cc-47dd-af7a-93f3e5bdddad"
      },
      "execution_count": 17,
      "outputs": [
        {
          "output_type": "stream",
          "name": "stdout",
          "text": [
            "True\n"
          ]
        }
      ]
    },
    {
      "cell_type": "code",
      "source": [
        "\n",
        "print(not result)"
      ],
      "metadata": {
        "colab": {
          "base_uri": "https://localhost:8080/"
        },
        "id": "ERMcHCzHhO6j",
        "outputId": "64daac43-37c2-4977-c3f8-e2484fcf79c3"
      },
      "execution_count": 18,
      "outputs": [
        {
          "output_type": "stream",
          "name": "stdout",
          "text": [
            "False\n"
          ]
        }
      ]
    }
  ]
}