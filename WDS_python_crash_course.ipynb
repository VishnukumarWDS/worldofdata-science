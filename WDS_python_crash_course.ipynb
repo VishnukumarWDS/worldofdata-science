{
 "cells": [
  {
   "cell_type": "markdown",
   "id": "dd33f48e",
   "metadata": {},
   "source": [
    "# FIRST PYTHON PROGAMMING LANGUAGE\n"
   ]
  },
  {
   "cell_type": "code",
   "execution_count": 4,
   "id": "8153ec0c",
   "metadata": {},
   "outputs": [
    {
     "name": "stdout",
     "output_type": "stream",
     "text": [
      "hello world\n"
     ]
    }
   ],
   "source": [
    "print(\"hello world\")"
   ]
  },
  {
   "cell_type": "code",
   "execution_count": 2,
   "id": "d5c7a8fd",
   "metadata": {},
   "outputs": [
    {
     "name": "stdout",
     "output_type": "stream",
     "text": [
      "<class 'int'>\n"
     ]
    }
   ],
   "source": [
    "var=44             # integer\n",
    "print(type(var))"
   ]
  },
  {
   "cell_type": "code",
   "execution_count": 1,
   "id": "f36e1390",
   "metadata": {},
   "outputs": [
    {
     "name": "stdout",
     "output_type": "stream",
     "text": [
      "<class 'float'>\n"
     ]
    }
   ],
   "source": [
    "var1=3.5           # float\n",
    "print(type(var1))"
   ]
  },
  {
   "cell_type": "code",
   "execution_count": 3,
   "id": "1a4c7130",
   "metadata": {},
   "outputs": [
    {
     "name": "stdout",
     "output_type": "stream",
     "text": [
      "<class 'bool'>\n"
     ]
    }
   ],
   "source": [
    "var2=True           # Boolean\n",
    "print(type(var2))"
   ]
  },
  {
   "cell_type": "code",
   "execution_count": 4,
   "id": "96abdf15",
   "metadata": {},
   "outputs": [
    {
     "name": "stdout",
     "output_type": "stream",
     "text": [
      "<class 'str'>\n"
     ]
    }
   ],
   "source": [
    "var3=\"string variable\"  # variable\n",
    "print(type(var3))"
   ]
  },
  {
   "cell_type": "code",
   "execution_count": null,
   "id": "2a850e6c",
   "metadata": {},
   "outputs": [],
   "source": [
    "#variables"
   ]
  },
  {
   "cell_type": "code",
   "execution_count": 1,
   "id": "08838084",
   "metadata": {},
   "outputs": [
    {
     "name": "stdout",
     "output_type": "stream",
     "text": [
      "55\n"
     ]
    }
   ],
   "source": [
    " var=55\n",
    "print(var)"
   ]
  },
  {
   "cell_type": "markdown",
   "id": "4bbe522b",
   "metadata": {},
   "source": [
    "# TYPES OF DATA\n"
   ]
  },
  {
   "cell_type": "markdown",
   "id": "1c3fc066",
   "metadata": {},
   "source": [
    "# NUMBERS"
   ]
  },
  {
   "cell_type": "code",
   "execution_count": 9,
   "id": "39666a0f",
   "metadata": {},
   "outputs": [
    {
     "data": {
      "text/plain": [
       "3"
      ]
     },
     "execution_count": 9,
     "metadata": {},
     "output_type": "execute_result"
    }
   ],
   "source": [
    "3"
   ]
  },
  {
   "cell_type": "code",
   "execution_count": 10,
   "id": "d0e2e0c3",
   "metadata": {},
   "outputs": [
    {
     "name": "stdout",
     "output_type": "stream",
     "text": [
      "3\n"
     ]
    }
   ],
   "source": [
    "print(\"3\")"
   ]
  },
  {
   "cell_type": "code",
   "execution_count": 11,
   "id": "f6738b98",
   "metadata": {},
   "outputs": [
    {
     "name": "stdout",
     "output_type": "stream",
     "text": [
      "55\n"
     ]
    }
   ],
   "source": [
    "A=55\n",
    "print(A)"
   ]
  },
  {
   "cell_type": "code",
   "execution_count": 12,
   "id": "c6adb793",
   "metadata": {},
   "outputs": [
    {
     "name": "stdout",
     "output_type": "stream",
     "text": [
      "(4, 66)\n"
     ]
    }
   ],
   "source": [
    "B=4,66\n",
    "print(B)"
   ]
  },
  {
   "cell_type": "code",
   "execution_count": 13,
   "id": "beacbe28",
   "metadata": {},
   "outputs": [
    {
     "name": "stdout",
     "output_type": "stream",
     "text": [
      "<class 'int'>\n"
     ]
    }
   ],
   "source": [
    "print(type(A))"
   ]
  },
  {
   "cell_type": "code",
   "execution_count": 14,
   "id": "8749b31b",
   "metadata": {},
   "outputs": [
    {
     "name": "stdout",
     "output_type": "stream",
     "text": [
      "<class 'tuple'>\n"
     ]
    }
   ],
   "source": [
    "print(type(B))"
   ]
  },
  {
   "cell_type": "markdown",
   "id": "e66a8173",
   "metadata": {},
   "source": [
    "### Basic Arithmetic Operations"
   ]
  },
  {
   "cell_type": "code",
   "execution_count": 15,
   "id": "3817db6d",
   "metadata": {},
   "outputs": [
    {
     "name": "stdout",
     "output_type": "stream",
     "text": [
      "7.7\n"
     ]
    }
   ],
   "source": [
    "a=5\n",
    "b=2.7\n",
    "print(a+b)"
   ]
  },
  {
   "cell_type": "code",
   "execution_count": 16,
   "id": "c34b2c2c",
   "metadata": {},
   "outputs": [
    {
     "name": "stdout",
     "output_type": "stream",
     "text": [
      "7.7\n"
     ]
    }
   ],
   "source": [
    "c=a+b\n",
    "print(c)"
   ]
  },
  {
   "cell_type": "code",
   "execution_count": 18,
   "id": "c237559c",
   "metadata": {},
   "outputs": [],
   "source": [
    "t=1.5\n",
    "s=7\n",
    "voot_kids=(t*s) # division"
   ]
  },
  {
   "cell_type": "code",
   "execution_count": 19,
   "id": "b5372ade",
   "metadata": {},
   "outputs": [
    {
     "name": "stdout",
     "output_type": "stream",
     "text": [
      "10.5\n"
     ]
    }
   ],
   "source": [
    "print(voot_kids)"
   ]
  },
  {
   "cell_type": "code",
   "execution_count": 21,
   "id": "d202be71",
   "metadata": {},
   "outputs": [
    {
     "name": "stdout",
     "output_type": "stream",
     "text": [
      "2.3333333333333335\n",
      "21\n",
      "343\n",
      "10\n",
      "4\n"
     ]
    }
   ],
   "source": [
    "p=7\n",
    "q=3\n",
    "print(p/q)    # division\n",
    "print(p*q)    # multiplication\n",
    "print(p**q)   # Power value or square root\n",
    "print(p+q)    # addition\n",
    "print(p-q)    # substraction\n"
   ]
  },
  {
   "cell_type": "markdown",
   "id": "7343fb55",
   "metadata": {},
   "source": [
    "#### Complex"
   ]
  },
  {
   "cell_type": "code",
   "execution_count": 24,
   "id": "1f9e4293",
   "metadata": {},
   "outputs": [
    {
     "name": "stdout",
     "output_type": "stream",
     "text": [
      "<class 'complex'>\n"
     ]
    }
   ],
   "source": [
    "comp=4+2j       #  number\n",
    "print(type(comp))"
   ]
  },
  {
   "cell_type": "code",
   "execution_count": 25,
   "id": "2d1bebd9",
   "metadata": {},
   "outputs": [
    {
     "name": "stdout",
     "output_type": "stream",
     "text": [
      "(8+10j)\n",
      "-6j\n"
     ]
    }
   ],
   "source": [
    "comp1=4+8j     # arithmetic\n",
    "print(comp+comp1)\n",
    "print(comp-comp1)"
   ]
  },
  {
   "cell_type": "markdown",
   "id": "228b5c66",
   "metadata": {},
   "source": [
    "### Boolean"
   ]
  },
  {
   "cell_type": "code",
   "execution_count": 27,
   "id": "09fc65be",
   "metadata": {},
   "outputs": [
    {
     "name": "stdout",
     "output_type": "stream",
     "text": [
      "<class 'bool'>\n"
     ]
    }
   ],
   "source": [
    "print(type(True))"
   ]
  },
  {
   "cell_type": "code",
   "execution_count": 28,
   "id": "f1861d6a",
   "metadata": {},
   "outputs": [
    {
     "name": "stdout",
     "output_type": "stream",
     "text": [
      "<class 'bool'>\n"
     ]
    }
   ],
   "source": [
    "print(type(False))"
   ]
  },
  {
   "cell_type": "markdown",
   "id": "772483ce",
   "metadata": {},
   "source": [
    "### Strings"
   ]
  },
  {
   "cell_type": "code",
   "execution_count": 35,
   "id": "e5128259",
   "metadata": {},
   "outputs": [
    {
     "name": "stdout",
     "output_type": "stream",
     "text": [
      "Welcome you all for \n",
      "<class 'str'>\n"
     ]
    }
   ],
   "source": [
    "str1=\"Welcome you all for \"\n",
    "print(str1)\n",
    "print(type(str1))"
   ]
  },
  {
   "cell_type": "code",
   "execution_count": 34,
   "id": "3e8f8a88",
   "metadata": {},
   "outputs": [
    {
     "name": "stdout",
     "output_type": "stream",
     "text": [
      "W\n",
      "e\n",
      "l\n",
      "c\n",
      "o\n",
      "m\n",
      "e\n"
     ]
    }
   ],
   "source": [
    "print(str1[0])\n",
    "print(str1[1])\n",
    "print(str1[2])\n",
    "print(str1[3])\n",
    "print(str1[4])\n",
    "print(str1[5])\n",
    "print(str1[6])"
   ]
  },
  {
   "cell_type": "code",
   "execution_count": 37,
   "id": "b0dfd7fc",
   "metadata": {},
   "outputs": [
    {
     "name": "stdout",
     "output_type": "stream",
     "text": [
      "Welcome you all for world of data and science\n"
     ]
    }
   ],
   "source": [
    "str2 =\"world of data and science\"\n",
    "print(str1+str2)"
   ]
  },
  {
   "cell_type": "markdown",
   "id": "65b00833",
   "metadata": {},
   "source": [
    "### Logical operations"
   ]
  },
  {
   "cell_type": "markdown",
   "id": "5c66ed64",
   "metadata": {},
   "source": [
    "\n",
    "#### AND logical operations"
   ]
  },
  {
   "cell_type": "code",
   "execution_count": 6,
   "id": "4ca8f10f",
   "metadata": {},
   "outputs": [
    {
     "name": "stdout",
     "output_type": "stream",
     "text": [
      "False\n",
      "True\n",
      "False\n",
      "False\n"
     ]
    }
   ],
   "source": [
    "  \n",
    "# o*o=o\n",
    "# 1*O=o\n",
    "# o*1=o\n",
    "# 1*1=1\n",
    "\n",
    "#And gate in python\n",
    "\n",
    "str0=True\n",
    "str1=False\n",
    "print(str0 and str1)\n",
    "\n",
    "str2=True \n",
    "str3=True\n",
    "print(str2 and str3)\n",
    "\n",
    "str4=False\n",
    "str5=True\n",
    "print(str4 and str5)\n",
    "\n",
    "str6=False\n",
    "str7=True\n",
    "print(str6 and str7)\n",
    "\n"
   ]
  },
  {
   "cell_type": "markdown",
   "id": "1b7554b5",
   "metadata": {},
   "source": [
    "### OR Logical operations"
   ]
  },
  {
   "cell_type": "code",
   "execution_count": 7,
   "id": "54427bcc",
   "metadata": {},
   "outputs": [
    {
     "name": "stdout",
     "output_type": "stream",
     "text": [
      "True\n",
      "False\n",
      "True\n",
      "True\n"
     ]
    }
   ],
   "source": [
    "\n",
    "\n",
    "\n",
    "str0=False\n",
    "str1=True\n",
    "print(str0 or str1)\n",
    "\n",
    "\n",
    "str2=False\n",
    "str3=False\n",
    "print(str2 or str3)\n",
    "\n",
    "\n",
    "\n",
    "str4=True\n",
    "str5=False\n",
    "print(str4 or str5)\n",
    "\n",
    "\n",
    "str6=True\n",
    "str7=True\n",
    "print(str6 or str7)\n"
   ]
  },
  {
   "cell_type": "markdown",
   "id": "f327668b",
   "metadata": {},
   "source": [
    "### NOT Logical Operations"
   ]
  },
  {
   "cell_type": "code",
   "execution_count": 10,
   "id": "8756486b",
   "metadata": {},
   "outputs": [
    {
     "name": "stdout",
     "output_type": "stream",
     "text": [
      "True\n"
     ]
    }
   ],
   "source": [
    "str8=True \n",
    "str9=True\n",
    "result=str8 and str9\n",
    "print(result)"
   ]
  },
  {
   "cell_type": "code",
   "execution_count": 13,
   "id": "a745e349",
   "metadata": {},
   "outputs": [
    {
     "name": "stdout",
     "output_type": "stream",
     "text": [
      "False\n"
     ]
    }
   ],
   "source": [
    "\n",
    "print(not result)"
   ]
  },
  {
   "cell_type": "markdown",
   "id": "068583be",
   "metadata": {},
   "source": [
    "## Lists"
   ]
  },
  {
   "cell_type": "code",
   "execution_count": 14,
   "id": "b27cf2a6",
   "metadata": {},
   "outputs": [
    {
     "name": "stdout",
     "output_type": "stream",
     "text": [
      "<class 'list'>\n"
     ]
    }
   ],
   "source": [
    "list1=[\"india\",\"japan\",\"china\",\"Usa\"]\n",
    "print(type(list1))"
   ]
  },
  {
   "cell_type": "code",
   "execution_count": 20,
   "id": "d956529d",
   "metadata": {},
   "outputs": [
    {
     "name": "stdout",
     "output_type": "stream",
     "text": [
      "india\n"
     ]
    }
   ],
   "source": [
    "print(list1[0])"
   ]
  },
  {
   "cell_type": "code",
   "execution_count": 24,
   "id": "02182d38",
   "metadata": {},
   "outputs": [
    {
     "name": "stdout",
     "output_type": "stream",
     "text": [
      "['india', 'japan', 'china', 'Usa']\n"
     ]
    }
   ],
   "source": [
    "print(list1)"
   ]
  },
  {
   "cell_type": "code",
   "execution_count": 25,
   "id": "7f3c6c80",
   "metadata": {},
   "outputs": [
    {
     "name": "stdout",
     "output_type": "stream",
     "text": [
      "['india', 'japan']\n"
     ]
    }
   ],
   "source": [
    "list2=list1[0:2]\n",
    "print(list2)"
   ]
  },
  {
   "cell_type": "code",
   "execution_count": 26,
   "id": "02bcedaf",
   "metadata": {},
   "outputs": [
    {
     "name": "stdout",
     "output_type": "stream",
     "text": [
      "['india', 'japan', 'china']\n"
     ]
    }
   ],
   "source": [
    "list3=list1[0:3]                 #  #\n",
    "print(list3)"
   ]
  },
  {
   "cell_type": "code",
   "execution_count": 38,
   "id": "7e03c8ca",
   "metadata": {},
   "outputs": [
    {
     "name": "stdout",
     "output_type": "stream",
     "text": [
      "['Usa', 'japan', 'india']\n"
     ]
    }
   ],
   "source": [
    "print(list1[::-1])     #  :: - used for revers in ML"
   ]
  },
  {
   "cell_type": "code",
   "execution_count": 34,
   "id": "c38f9300",
   "metadata": {},
   "outputs": [
    {
     "name": "stdout",
     "output_type": "stream",
     "text": [
      "['india', 'japan', 'Usa']\n"
     ]
    }
   ],
   "source": [
    "list1.remove(\"china\")      # Remove\n",
    "print(list1)"
   ]
  },
  {
   "cell_type": "code",
   "execution_count": 35,
   "id": "0752ad57",
   "metadata": {},
   "outputs": [
    {
     "name": "stdout",
     "output_type": "stream",
     "text": [
      "['india', 'japan', 'Usa']\n"
     ]
    }
   ],
   "source": [
    "list1=[\"india\",\"japan\",\"china\",\"Usa\"]    #pop=remove\n",
    "list1.pop(2)\n",
    "print(list1)"
   ]
  },
  {
   "cell_type": "code",
   "execution_count": 10,
   "id": "7ea2bae7",
   "metadata": {},
   "outputs": [
    {
     "name": "stdout",
     "output_type": "stream",
     "text": [
      "['china', 'pakisthan', 'Usa', 'africa']\n"
     ]
    }
   ],
   "source": [
    "print(list1[2:])              # finding world by number"
   ]
  },
  {
   "cell_type": "code",
   "execution_count": 41,
   "id": "c9246abb",
   "metadata": {},
   "outputs": [
    {
     "name": "stdout",
     "output_type": "stream",
     "text": [
      "['Usa', 'japan', 'india']\n"
     ]
    }
   ],
   "source": [
    "print(list1[::-1])      #revers form"
   ]
  },
  {
   "cell_type": "code",
   "execution_count": 42,
   "id": "fc708270",
   "metadata": {},
   "outputs": [
    {
     "name": "stdout",
     "output_type": "stream",
     "text": [
      "['india', 'japan']\n"
     ]
    }
   ],
   "source": [
    "list1.remove(\"Usa\")   #removing words\n",
    "print(list1)"
   ]
  },
  {
   "cell_type": "code",
   "execution_count": 3,
   "id": "1a12fe33",
   "metadata": {},
   "outputs": [
    {
     "name": "stdout",
     "output_type": "stream",
     "text": [
      "['india', 'japan', 'china', 'Usa']\n"
     ]
    }
   ],
   "source": [
    "list1=[\"india\",\"japan\",\"china\",\"Usa\"]\n",
    "print(list1)"
   ]
  },
  {
   "cell_type": "code",
   "execution_count": 4,
   "id": "54eac03a",
   "metadata": {},
   "outputs": [
    {
     "name": "stdout",
     "output_type": "stream",
     "text": [
      "['india', 'japan', 'china', 'Usa', 'africa']\n"
     ]
    }
   ],
   "source": [
    "list1.append(\"africa\")    #append means ADD\n",
    "print(list1)"
   ]
  },
  {
   "cell_type": "code",
   "execution_count": 5,
   "id": "660cb874",
   "metadata": {},
   "outputs": [
    {
     "name": "stdout",
     "output_type": "stream",
     "text": [
      "['india', 'japan', 'china', 'pakisthan', 'Usa', 'africa']\n"
     ]
    }
   ],
   "source": [
    "list1.insert(3,\"pakisthan\")        #insert means replacing word with another word\n",
    "print(list1)"
   ]
  },
  {
   "cell_type": "markdown",
   "id": "e541d5a2",
   "metadata": {},
   "source": [
    "###  Tuples"
   ]
  },
  {
   "cell_type": "code",
   "execution_count": 6,
   "id": "41d26e48",
   "metadata": {},
   "outputs": [
    {
     "name": "stdout",
     "output_type": "stream",
     "text": [
      "('circket', 'ball', 'bat', 'ground')\n",
      "<class 'tuple'>\n"
     ]
    }
   ],
   "source": [
    "tuple1=(\"circket\",\"ball\",\"bat\",\"ground\")   # more words \n",
    "print(tuple1)\n",
    "print(type(tuple1))"
   ]
  },
  {
   "cell_type": "markdown",
   "id": "a184abc7",
   "metadata": {},
   "source": [
    "### Dictionary"
   ]
  },
  {
   "cell_type": "code",
   "execution_count": 11,
   "id": "a5abcbdf",
   "metadata": {},
   "outputs": [
    {
     "name": "stdout",
     "output_type": "stream",
     "text": [
      "{'red': 'green', 'white': 'black'}\n",
      "<class 'dict'>\n"
     ]
    }
   ],
   "source": [
    "d1={\"red\":\"green\",\"white\":\"black\"}      # like related or Oppoites words\n",
    "print(d1)\n",
    "print(type(d1))"
   ]
  },
  {
   "cell_type": "code",
   "execution_count": 6,
   "id": "a30fde0a",
   "metadata": {},
   "outputs": [
    {
     "name": "stdout",
     "output_type": "stream",
     "text": [
      "green\n"
     ]
    }
   ],
   "source": [
    "print(d1[\"red\"])        # compairable words"
   ]
  },
  {
   "cell_type": "code",
   "execution_count": 8,
   "id": "467b45d3",
   "metadata": {},
   "outputs": [
    {
     "name": "stdout",
     "output_type": "stream",
     "text": [
      "black\n"
     ]
    }
   ],
   "source": [
    "print(d1[\"white\"])"
   ]
  },
  {
   "cell_type": "markdown",
   "id": "30705af6",
   "metadata": {},
   "source": [
    "### Sets"
   ]
  },
  {
   "cell_type": "code",
   "execution_count": 10,
   "id": "2a66f7a0",
   "metadata": {},
   "outputs": [
    {
     "name": "stdout",
     "output_type": "stream",
     "text": [
      "{1, 2, 3, 4, 5, 6, 7}\n",
      "<class 'set'>\n"
     ]
    }
   ],
   "source": [
    "s1={1,2,3,4,5,6,7,7,}\n",
    "print(s1)\n",
    "print(type(s1))"
   ]
  },
  {
   "cell_type": "code",
   "execution_count": 12,
   "id": "6bf3789b",
   "metadata": {},
   "outputs": [
    {
     "name": "stdout",
     "output_type": "stream",
     "text": [
      "{2, 3, 4, 6, 7, 8, 9}\n"
     ]
    }
   ],
   "source": [
    "s2={2,2,2,2,3,3,3,4,4,4,4,6,6,7,9,8}    # duplicate words not repete\n",
    "print(s2)"
   ]
  },
  {
   "cell_type": "markdown",
   "id": "e2542a91",
   "metadata": {},
   "source": [
    "## Comparision Operators\n"
   ]
  },
  {
   "cell_type": "code",
   "execution_count": 13,
   "id": "bf3321e4",
   "metadata": {},
   "outputs": [
    {
     "name": "stdout",
     "output_type": "stream",
     "text": [
      "False\n"
     ]
    }
   ],
   "source": [
    "x=4                  ###  < lessthan\n",
    "y=22                 ###  > greaterthan\n",
    "print(x>y)           ###  ==  equal"
   ]
  },
  {
   "cell_type": "code",
   "execution_count": 14,
   "id": "5cd077e5",
   "metadata": {},
   "outputs": [
    {
     "name": "stdout",
     "output_type": "stream",
     "text": [
      "True\n"
     ]
    }
   ],
   "source": [
    "print(y>x)    # > greater"
   ]
  },
  {
   "cell_type": "code",
   "execution_count": 17,
   "id": "6050ac98",
   "metadata": {},
   "outputs": [
    {
     "name": "stdout",
     "output_type": "stream",
     "text": [
      "True\n"
     ]
    }
   ],
   "source": [
    "p=10          # ==  equal\n",
    "q=10\n",
    "print(p==q)"
   ]
  },
  {
   "cell_type": "code",
   "execution_count": 18,
   "id": "4410b8d9",
   "metadata": {},
   "outputs": [
    {
     "name": "stdout",
     "output_type": "stream",
     "text": [
      "True\n"
     ]
    }
   ],
   "source": [
    "z=22           \n",
    "print(y==z)"
   ]
  },
  {
   "cell_type": "code",
   "execution_count": 19,
   "id": "5442ee09",
   "metadata": {},
   "outputs": [
    {
     "name": "stdout",
     "output_type": "stream",
     "text": [
      "False\n"
     ]
    }
   ],
   "source": [
    "print(x==z)"
   ]
  },
  {
   "cell_type": "code",
   "execution_count": 20,
   "id": "63246d0b",
   "metadata": {},
   "outputs": [
    {
     "name": "stdout",
     "output_type": "stream",
     "text": [
      "True\n"
     ]
    }
   ],
   "source": [
    "print(x!=y)           ### !=  Notequal"
   ]
  },
  {
   "cell_type": "code",
   "execution_count": 21,
   "id": "33dcb3bb",
   "metadata": {},
   "outputs": [
    {
     "name": "stdout",
     "output_type": "stream",
     "text": [
      "True\n"
     ]
    }
   ],
   "source": [
    "print(y>=x)           ### >=  greaterthan and equal"
   ]
  },
  {
   "cell_type": "code",
   "execution_count": 22,
   "id": "24ebb083",
   "metadata": {},
   "outputs": [
    {
     "name": "stdout",
     "output_type": "stream",
     "text": [
      "False\n"
     ]
    }
   ],
   "source": [
    "print(y<=x)           ###  <=  lessthan and equal"
   ]
  },
  {
   "cell_type": "code",
   "execution_count": 24,
   "id": "31ade01e",
   "metadata": {
    "scrolled": true
   },
   "outputs": [
    {
     "name": "stdout",
     "output_type": "stream",
     "text": [
      "572\n"
     ]
    }
   ],
   "source": [
    "# x+y*z           should be written as\n",
    "print((x+y)*z)"
   ]
  },
  {
   "cell_type": "code",
   "execution_count": 25,
   "id": "bb942976",
   "metadata": {},
   "outputs": [
    {
     "name": "stdout",
     "output_type": "stream",
     "text": [
      "110\n"
     ]
    }
   ],
   "source": [
    "# x*y+z  should be written as\n",
    "print((x*y)+z)"
   ]
  },
  {
   "cell_type": "markdown",
   "id": "6b92540a",
   "metadata": {},
   "source": [
    "## Conditional statement"
   ]
  },
  {
   "cell_type": "markdown",
   "id": "c86f6e52",
   "metadata": {},
   "source": [
    "## If - Else statements"
   ]
  },
  {
   "cell_type": "code",
   "execution_count": 28,
   "id": "37db3640",
   "metadata": {},
   "outputs": [
    {
     "name": "stdout",
     "output_type": "stream",
     "text": [
      "Number is Positive\n"
     ]
    }
   ],
   "source": [
    "var6=5\n",
    "if var6>0:\n",
    "    print(\"Number is Positive\")\n",
    "elif var6<0:\n",
    "    print(\"Number is Negative\")\n",
    "else :\n",
    "    print(\"Number is Zero\")"
   ]
  },
  {
   "cell_type": "code",
   "execution_count": 29,
   "id": "39f2892c",
   "metadata": {},
   "outputs": [
    {
     "name": "stdout",
     "output_type": "stream",
     "text": [
      "Number is Zero\n"
     ]
    }
   ],
   "source": [
    "var0=0\n",
    "if var0>0:\n",
    "    print(\"Number is Positive\")\n",
    "elif var0<0:\n",
    "    print(\"Number is Negative\")\n",
    "else :\n",
    "    print(\"Number is Zero\")"
   ]
  },
  {
   "cell_type": "code",
   "execution_count": 31,
   "id": "aef86894",
   "metadata": {},
   "outputs": [
    {
     "name": "stdout",
     "output_type": "stream",
     "text": [
      "Number is Zero\n"
     ]
    }
   ],
   "source": [
    "var6=1\n",
    "if var0>0:\n",
    "    print(\"Number is Positive\")\n",
    "elif var0<0:\n",
    "    print(\"Number is Negative\")\n",
    "else :\n",
    "    print(\"Number is Zero\")"
   ]
  },
  {
   "cell_type": "code",
   "execution_count": 4,
   "id": "2359bfe2",
   "metadata": {},
   "outputs": [
    {
     "name": "stdout",
     "output_type": "stream",
     "text": [
      "Number is Negative\n"
     ]
    }
   ],
   "source": [
    "var10=1\n",
    "if var10<0:\n",
    "    print(\"Number is Positive\")\n",
    "elif var10>0:\n",
    "    print(\"Number is Negative\")\n",
    "else :\n",
    "    print(\"Number is Zero\")"
   ]
  },
  {
   "cell_type": "markdown",
   "id": "79ce7afc",
   "metadata": {},
   "source": [
    "### Ternary Operators"
   ]
  },
  {
   "cell_type": "code",
   "execution_count": 38,
   "id": "4e9b380f",
   "metadata": {},
   "outputs": [
    {
     "name": "stdout",
     "output_type": "stream",
     "text": [
      "5\n"
     ]
    }
   ],
   "source": [
    "sum1=5\n",
    "sum2=10\n",
    "minimum=sum1  if sum1<sum2 else sum2\n",
    "print(minimum)"
   ]
  },
  {
   "cell_type": "code",
   "execution_count": 39,
   "id": "7ace2e5f",
   "metadata": {},
   "outputs": [
    {
     "name": "stdout",
     "output_type": "stream",
     "text": [
      "5\n"
     ]
    }
   ],
   "source": [
    "sum1=1\n",
    "sum2=5\n",
    "minimum=sum1  if sum1>sum2 else sum2\n",
    "print(minimum)"
   ]
  },
  {
   "cell_type": "code",
   "execution_count": 41,
   "id": "bc8a3064",
   "metadata": {},
   "outputs": [
    {
     "name": "stdout",
     "output_type": "stream",
     "text": [
      "10\n"
     ]
    }
   ],
   "source": [
    "sum1=10\n",
    "sum2=5\n",
    "minimum=sum1  if sum1>sum2 else sum2\n",
    "print(minimum)"
   ]
  },
  {
   "cell_type": "code",
   "execution_count": 3,
   "id": "6eca71d7",
   "metadata": {},
   "outputs": [
    {
     "name": "stdout",
     "output_type": "stream",
     "text": [
      "10\n"
     ]
    }
   ],
   "source": [
    "sum1=10\n",
    "sum2=5\n",
    "maximum=sum1  if sum1>sum2 else sum2\n",
    "print(maximum)"
   ]
  },
  {
   "cell_type": "markdown",
   "id": "dbec8337",
   "metadata": {},
   "source": [
    "## Loops\n"
   ]
  },
  {
   "cell_type": "markdown",
   "id": "c5361521",
   "metadata": {},
   "source": [
    "### while loop"
   ]
  },
  {
   "cell_type": "code",
   "execution_count": 4,
   "id": "6094fe08",
   "metadata": {},
   "outputs": [
    {
     "name": "stdout",
     "output_type": "stream",
     "text": [
      "*\n",
      "*\n",
      "*\n",
      "*\n"
     ]
    },
    {
     "ename": "SyntaxError",
     "evalue": "'break' outside loop (<ipython-input-4-0028990b6a80>, line 6)",
     "output_type": "error",
     "traceback": [
      "\u001b[1;36m  File \u001b[1;32m\"<ipython-input-4-0028990b6a80>\"\u001b[1;36m, line \u001b[1;32m6\u001b[0m\n\u001b[1;33m    break\u001b[0m\n\u001b[1;37m    ^\u001b[0m\n\u001b[1;31mSyntaxError\u001b[0m\u001b[1;31m:\u001b[0m 'break' outside loop\n"
     ]
    }
   ],
   "source": [
    "i=10\n",
    "while i>0:\n",
    "    i-=3\n",
    "    print('*')\n",
    "if i<=4:\n",
    "        break\n",
    "else:\n",
    "  print('*')"
   ]
  },
  {
   "cell_type": "markdown",
   "id": "109df845",
   "metadata": {},
   "source": [
    "## For Loop"
   ]
  },
  {
   "cell_type": "code",
   "execution_count": 6,
   "id": "99102311",
   "metadata": {},
   "outputs": [
    {
     "name": "stdout",
     "output_type": "stream",
     "text": [
      "Bike\n",
      "Car\n",
      "aeroplane\n",
      "Auto\n"
     ]
    }
   ],
   "source": [
    "vehicals=[\"Bike\",\"Car\",\"aeroplane\",\"Auto\"]\n",
    "for x in vehicals :\n",
    " print(x)"
   ]
  },
  {
   "cell_type": "code",
   "execution_count": 7,
   "id": "bd7d7b5f",
   "metadata": {},
   "outputs": [
    {
     "name": "stdout",
     "output_type": "stream",
     "text": [
      "K\n",
      "A\n",
      "07\n",
      "J\n",
      "8773\n"
     ]
    }
   ],
   "source": [
    "bike=[\"K\",\"A\",\"07\",\"J\",\"8773\"]\n",
    "for y in bike :\n",
    "    print(y)"
   ]
  },
  {
   "cell_type": "code",
   "execution_count": 8,
   "id": "b3c75430",
   "metadata": {},
   "outputs": [
    {
     "name": "stdout",
     "output_type": "stream",
     "text": [
      "K\n",
      "A\n",
      "07\n",
      "J\n"
     ]
    }
   ],
   "source": [
    "for y in bike :\n",
    "    if  y!=\"8773\":\n",
    "        print(y)"
   ]
  },
  {
   "cell_type": "markdown",
   "id": "5646ba7b",
   "metadata": {},
   "source": [
    "# Control Statement"
   ]
  },
  {
   "cell_type": "markdown",
   "id": "61df3e7c",
   "metadata": {},
   "source": [
    "## Continue"
   ]
  },
  {
   "cell_type": "code",
   "execution_count": 15,
   "id": "0f3d3fd9",
   "metadata": {},
   "outputs": [
    {
     "name": "stdout",
     "output_type": "stream",
     "text": [
      "Bike\n",
      "Car\n",
      "Auto\n"
     ]
    }
   ],
   "source": [
    "for x in  vehicals :                    ### remove = [==] \n",
    "    if x == \"aeroplane\" :continue\n",
    "    print(x)"
   ]
  },
  {
   "cell_type": "markdown",
   "id": "3cb2b431",
   "metadata": {},
   "source": [
    "## BREAK"
   ]
  },
  {
   "cell_type": "code",
   "execution_count": 18,
   "id": "570dbbcb",
   "metadata": {},
   "outputs": [
    {
     "name": "stdout",
     "output_type": "stream",
     "text": [
      "K\n",
      "A\n",
      "07\n",
      "J\n"
     ]
    }
   ],
   "source": [
    "for y in bike:                       # break function helps to break key\n",
    "    if y == \"8773\" : break\n",
    "    print(y)"
   ]
  },
  {
   "cell_type": "code",
   "execution_count": 13,
   "id": "adc94248",
   "metadata": {},
   "outputs": [
    {
     "name": "stdout",
     "output_type": "stream",
     "text": [
      "wheels\n",
      "break\n",
      "accelator\n",
      "hand break\n"
     ]
    }
   ],
   "source": [
    "car=[\"wheels\",\"break\",\"accelator\",\"hand break\"]\n",
    "for z in car:\n",
    "    print(z)"
   ]
  },
  {
   "cell_type": "code",
   "execution_count": 21,
   "id": "72fc6377",
   "metadata": {},
   "outputs": [
    {
     "name": "stdout",
     "output_type": "stream",
     "text": [
      "wheels\n",
      "break\n"
     ]
    }
   ],
   "source": [
    "for z in car :\n",
    "    if z == \"accelator\" : break\n",
    "    print(z)"
   ]
  },
  {
   "cell_type": "markdown",
   "id": "b3c2d49a",
   "metadata": {},
   "source": [
    "\n",
    "\n",
    "## LOOP - RANGE  "
   ]
  },
  {
   "cell_type": "code",
   "execution_count": 21,
   "id": "99f0094f",
   "metadata": {},
   "outputs": [
    {
     "name": "stdout",
     "output_type": "stream",
     "text": [
      "0\n",
      "1\n",
      "2\n",
      "3\n",
      "4\n",
      "5\n",
      "6\n",
      "7\n",
      "8\n"
     ]
    }
   ],
   "source": [
    "for x in range(9) :\n",
    "   print(x)"
   ]
  },
  {
   "cell_type": "code",
   "execution_count": 22,
   "id": "46c80acf",
   "metadata": {},
   "outputs": [
    {
     "name": "stdout",
     "output_type": "stream",
     "text": [
      "2\n",
      "3\n",
      "4\n",
      "5\n"
     ]
    }
   ],
   "source": [
    "for x in range(2,6):\n",
    "    print(x)"
   ]
  },
  {
   "cell_type": "code",
   "execution_count": 26,
   "id": "67d027e4",
   "metadata": {},
   "outputs": [
    {
     "name": "stdout",
     "output_type": "stream",
     "text": [
      "2\n",
      "5\n"
     ]
    }
   ],
   "source": [
    "for x in range(2,6,3) :\n",
    "    print(x)"
   ]
  },
  {
   "cell_type": "code",
   "execution_count": 27,
   "id": "76a2e8da",
   "metadata": {},
   "outputs": [
    {
     "name": "stdout",
     "output_type": "stream",
     "text": [
      "6\n"
     ]
    }
   ],
   "source": [
    "for y in range (6,7,8) :\n",
    "    print(y)"
   ]
  },
  {
   "cell_type": "markdown",
   "id": "04d78b8f",
   "metadata": {},
   "source": [
    "# FUNCTIONS"
   ]
  },
  {
   "cell_type": "code",
   "execution_count": 28,
   "id": "410b955b",
   "metadata": {},
   "outputs": [],
   "source": [
    " #  syntax of function\n",
    " # def function_name(param1,param2,..) :\n",
    " #      statement(s)\n",
    "    "
   ]
  },
  {
   "cell_type": "markdown",
   "id": "91e59a0f",
   "metadata": {},
   "source": [
    "# FUNCTION TO MULTIPLY 2 NUMBER"
   ]
  },
  {
   "cell_type": "code",
   "execution_count": 30,
   "id": "ed9e4a78",
   "metadata": {},
   "outputs": [
    {
     "name": "stdout",
     "output_type": "stream",
     "text": [
      "16\n"
     ]
    }
   ],
   "source": [
    "def multiply (num1 ,num2):        # local variables\n",
    "    \"\"\"\n",
    "    Accepts 2 parameters and returns product\n",
    "    \"\"\"\n",
    "    return num1*num2\n",
    "result = multiply (4,4)\n",
    "print(result)"
   ]
  },
  {
   "cell_type": "code",
   "execution_count": 33,
   "id": "97972001",
   "metadata": {},
   "outputs": [
    {
     "name": "stdout",
     "output_type": "stream",
     "text": [
      "\n",
      "    Accepts 2 parameters and returns product\n",
      "    \n"
     ]
    }
   ],
   "source": [
    "print(multiply.__doc__)"
   ]
  },
  {
   "cell_type": "markdown",
   "id": "a217cf2c",
   "metadata": {},
   "source": [
    "## Scope and Lifetime of variable"
   ]
  },
  {
   "cell_type": "code",
   "execution_count": 36,
   "id": "50dd905b",
   "metadata": {},
   "outputs": [
    {
     "ename": "IndentationError",
     "evalue": "unindent does not match any outer indentation level (<tokenize>, line 3)",
     "output_type": "error",
     "traceback": [
      "\u001b[1;36m  File \u001b[1;32m\"<tokenize>\"\u001b[1;36m, line \u001b[1;32m3\u001b[0m\n\u001b[1;33m    print(new1)\u001b[0m\n\u001b[1;37m    ^\u001b[0m\n\u001b[1;31mIndentationError\u001b[0m\u001b[1;31m:\u001b[0m unindent does not match any outer indentation level\n"
     ]
    }
   ],
   "source": [
    "def function1 ():\n",
    "    new1=6\n",
    "  print(new1)"
   ]
  },
  {
   "cell_type": "code",
   "execution_count": 41,
   "id": "4bb79d57",
   "metadata": {},
   "outputs": [
    {
     "name": "stdout",
     "output_type": "stream",
     "text": [
      "2\n"
     ]
    }
   ],
   "source": [
    "vari1=2\n",
    "def function2():\n",
    "    print(vari1)\n",
    "function2()   "
   ]
  },
  {
   "cell_type": "code",
   "execution_count": 43,
   "id": "00e0d79b",
   "metadata": {},
   "outputs": [
    {
     "ename": "UnboundLocalError",
     "evalue": "local variable 'vari1' referenced before assignment",
     "output_type": "error",
     "traceback": [
      "\u001b[1;31m---------------------------------------------------------------------------\u001b[0m",
      "\u001b[1;31mUnboundLocalError\u001b[0m                         Traceback (most recent call last)",
      "\u001b[1;32m<ipython-input-43-5d46c5d30934>\u001b[0m in \u001b[0;36m<module>\u001b[1;34m\u001b[0m\n\u001b[0;32m      3\u001b[0m     \u001b[0mvari1\u001b[0m\u001b[1;33m=\u001b[0m\u001b[0mvari1\u001b[0m\u001b[1;33m+\u001b[0m\u001b[1;36m5\u001b[0m\u001b[1;33m\u001b[0m\u001b[1;33m\u001b[0m\u001b[0m\n\u001b[0;32m      4\u001b[0m     \u001b[0mprint\u001b[0m\u001b[1;33m(\u001b[0m\u001b[0mvari1\u001b[0m\u001b[1;33m)\u001b[0m\u001b[1;33m\u001b[0m\u001b[1;33m\u001b[0m\u001b[0m\n\u001b[1;32m----> 5\u001b[1;33m \u001b[0mfunction2\u001b[0m\u001b[1;33m(\u001b[0m\u001b[1;33m)\u001b[0m\u001b[1;33m\u001b[0m\u001b[1;33m\u001b[0m\u001b[0m\n\u001b[0m",
      "\u001b[1;32m<ipython-input-43-5d46c5d30934>\u001b[0m in \u001b[0;36mfunction2\u001b[1;34m()\u001b[0m\n\u001b[0;32m      1\u001b[0m \u001b[0mvari1\u001b[0m\u001b[1;33m=\u001b[0m\u001b[1;36m2\u001b[0m\u001b[1;33m\u001b[0m\u001b[1;33m\u001b[0m\u001b[0m\n\u001b[0;32m      2\u001b[0m \u001b[1;32mdef\u001b[0m \u001b[0mfunction2\u001b[0m\u001b[1;33m(\u001b[0m\u001b[1;33m)\u001b[0m\u001b[1;33m:\u001b[0m\u001b[1;33m\u001b[0m\u001b[1;33m\u001b[0m\u001b[0m\n\u001b[1;32m----> 3\u001b[1;33m     \u001b[0mvari1\u001b[0m\u001b[1;33m=\u001b[0m\u001b[0mvari1\u001b[0m\u001b[1;33m+\u001b[0m\u001b[1;36m5\u001b[0m\u001b[1;33m\u001b[0m\u001b[1;33m\u001b[0m\u001b[0m\n\u001b[0m\u001b[0;32m      4\u001b[0m     \u001b[0mprint\u001b[0m\u001b[1;33m(\u001b[0m\u001b[0mvari1\u001b[0m\u001b[1;33m)\u001b[0m\u001b[1;33m\u001b[0m\u001b[1;33m\u001b[0m\u001b[0m\n\u001b[0;32m      5\u001b[0m \u001b[0mfunction2\u001b[0m\u001b[1;33m(\u001b[0m\u001b[1;33m)\u001b[0m\u001b[1;33m\u001b[0m\u001b[1;33m\u001b[0m\u001b[0m\n",
      "\u001b[1;31mUnboundLocalError\u001b[0m: local variable 'vari1' referenced before assignment"
     ]
    }
   ],
   "source": [
    "vari1=2\n",
    "def function2():\n",
    "    vari1=vari1+5\n",
    "    print(vari1)\n",
    "function2()   "
   ]
  },
  {
   "cell_type": "code",
   "execution_count": 44,
   "id": "31681d83",
   "metadata": {},
   "outputs": [
    {
     "name": "stdout",
     "output_type": "stream",
     "text": [
      "7\n"
     ]
    }
   ],
   "source": [
    "# to slve this we use global variable\n",
    "global vari1\n",
    "vari1=2\n",
    "def function2():\n",
    "    global vari1\n",
    "    vari1=vari1+5\n",
    "    print(vari1)\n",
    "function2()   "
   ]
  },
  {
   "cell_type": "code",
   "execution_count": 45,
   "id": "2844814a",
   "metadata": {},
   "outputs": [
    {
     "name": "stdout",
     "output_type": "stream",
     "text": [
      "7\n"
     ]
    }
   ],
   "source": [
    "print(vari1)"
   ]
  },
  {
   "cell_type": "markdown",
   "id": "b2d98967",
   "metadata": {},
   "source": [
    "# Lambda Function\""
   ]
  },
  {
   "cell_type": "code",
   "execution_count": 46,
   "id": "e162bce2",
   "metadata": {},
   "outputs": [],
   "source": [
    "# defined using lamda keword\n",
    "# can have one or more Expresstion\n",
    "# can have multiple arguments"
   ]
  },
  {
   "cell_type": "markdown",
   "id": "45e9115d",
   "metadata": {},
   "source": [
    "## syntax of Lambda function"
   ]
  },
  {
   "cell_type": "code",
   "execution_count": 47,
   "id": "d5b0ba6b",
   "metadata": {},
   "outputs": [],
   "source": [
    "# lambda  argument : expression"
   ]
  },
  {
   "cell_type": "markdown",
   "id": "d1c7ae97",
   "metadata": {},
   "source": [
    "# Lambda Function to Double a Number"
   ]
  },
  {
   "cell_type": "code",
   "execution_count": 49,
   "id": "448c8b2d",
   "metadata": {},
   "outputs": [
    {
     "name": "stdout",
     "output_type": "stream",
     "text": [
      "67.65\n"
     ]
    }
   ],
   "source": [
    "double=lambda y:y*3\n",
    "print(double(22.55))"
   ]
  },
  {
   "cell_type": "markdown",
   "id": "5b6850ab",
   "metadata": {},
   "source": [
    "# Another Example of lambda function"
   ]
  },
  {
   "cell_type": "code",
   "execution_count": 2,
   "id": "7abac2f7",
   "metadata": {},
   "outputs": [
    {
     "name": "stdout",
     "output_type": "stream",
     "text": [
      "20\n",
      "30\n"
     ]
    }
   ],
   "source": [
    "def func(n):\n",
    "    return lambda a:a*n\n",
    " \n",
    "doubler=func(2)\n",
    "tripler=func(3)\n",
    "\n",
    "print(doubler(10))\n",
    "print(tripler(10))\n"
   ]
  },
  {
   "cell_type": "code",
   "execution_count": 3,
   "id": "1d7d0a56",
   "metadata": {},
   "outputs": [
    {
     "name": "stdout",
     "output_type": "stream",
     "text": [
      "160000\n",
      "64000000\n"
     ]
    }
   ],
   "source": [
    "def func(n):\n",
    "    return lambda a:a**n\n",
    "                            # def func is like = squareroot and multipecation\n",
    "doubler=func(4)\n",
    "tripler=func(6)\n",
    "\n",
    "print(doubler(20))\n",
    "print(tripler(20))"
   ]
  },
  {
   "cell_type": "markdown",
   "id": "384d20e4",
   "metadata": {},
   "source": [
    "# MODULES"
   ]
  },
  {
   "cell_type": "code",
   "execution_count": 6,
   "id": "c0962b69",
   "metadata": {},
   "outputs": [],
   "source": [
    "# simplicity\n",
    "# maintaiabiltiy\n",
    "# coordination on different moudules\n",
    "# reusableability\n",
    "# python has more Modules\n",
    "# Mode of file  is in form as (.py)"
   ]
  },
  {
   "cell_type": "markdown",
   "id": "ba4cccfc",
   "metadata": {},
   "source": [
    "## Math  Module\n"
   ]
  },
  {
   "cell_type": "code",
   "execution_count": 7,
   "id": "7dcf4289",
   "metadata": {},
   "outputs": [],
   "source": [
    "import math  # to import math module"
   ]
  },
  {
   "cell_type": "markdown",
   "id": "1e1f58f9",
   "metadata": {},
   "source": [
    "## using math Modules"
   ]
  },
  {
   "cell_type": "code",
   "execution_count": 8,
   "id": "a16309d1",
   "metadata": {},
   "outputs": [
    {
     "name": "stdout",
     "output_type": "stream",
     "text": [
      "3.141592653589793\n"
     ]
    }
   ],
   "source": [
    "print(math.pi)"
   ]
  },
  {
   "cell_type": "code",
   "execution_count": 9,
   "id": "9a960b49",
   "metadata": {},
   "outputs": [
    {
     "name": "stdout",
     "output_type": "stream",
     "text": [
      "0.017453292519943295\n"
     ]
    }
   ],
   "source": [
    "print(math.pi/180)"
   ]
  },
  {
   "cell_type": "markdown",
   "id": "6d995db2",
   "metadata": {},
   "source": [
    "# Math module we can convert RADIAN TO DEGREE"
   ]
  },
  {
   "cell_type": "code",
   "execution_count": 12,
   "id": "d1e82bda",
   "metadata": {},
   "outputs": [
    {
     "data": {
      "text/plain": [
       "90.0"
      ]
     },
     "execution_count": 12,
     "metadata": {},
     "output_type": "execute_result"
    }
   ],
   "source": [
    "math.degrees(math.pi/2)    # radian to degree"
   ]
  },
  {
   "cell_type": "code",
   "execution_count": 13,
   "id": "757ff389",
   "metadata": {},
   "outputs": [
    {
     "data": {
      "text/plain": [
       "59.99999999999999"
      ]
     },
     "execution_count": 13,
     "metadata": {},
     "output_type": "execute_result"
    }
   ],
   "source": [
    "math.degrees(math.pi/3)"
   ]
  },
  {
   "cell_type": "code",
   "execution_count": 19,
   "id": "f45a7ba8",
   "metadata": {},
   "outputs": [
    {
     "data": {
      "text/plain": [
       "180.0"
      ]
     },
     "execution_count": 19,
     "metadata": {},
     "output_type": "execute_result"
    }
   ],
   "source": [
    "math.degrees(math.pi/1)"
   ]
  },
  {
   "cell_type": "code",
   "execution_count": 20,
   "id": "8e6ada5d",
   "metadata": {},
   "outputs": [
    {
     "data": {
      "text/plain": [
       "2.0"
      ]
     },
     "execution_count": 20,
     "metadata": {},
     "output_type": "execute_result"
    }
   ],
   "source": [
    "math.sqrt(4)"
   ]
  },
  {
   "cell_type": "code",
   "execution_count": 21,
   "id": "61bb9cfb",
   "metadata": {},
   "outputs": [
    {
     "data": {
      "text/plain": [
       "7.745966692414834"
      ]
     },
     "execution_count": 21,
     "metadata": {},
     "output_type": "execute_result"
    }
   ],
   "source": [
    "math.sqrt(60)"
   ]
  },
  {
   "cell_type": "code",
   "execution_count": 22,
   "id": "46950dd8",
   "metadata": {},
   "outputs": [
    {
     "data": {
      "text/plain": [
       "1.4142135623730951"
      ]
     },
     "execution_count": 22,
     "metadata": {},
     "output_type": "execute_result"
    }
   ],
   "source": [
    "math.sqrt(2)"
   ]
  },
  {
   "cell_type": "code",
   "execution_count": 23,
   "id": "bbee569b",
   "metadata": {},
   "outputs": [
    {
     "data": {
      "text/plain": [
       "6.0"
      ]
     },
     "execution_count": 23,
     "metadata": {},
     "output_type": "execute_result"
    }
   ],
   "source": [
    "math.sqrt(36)     # function (sqrt - squareroot)"
   ]
  },
  {
   "cell_type": "markdown",
   "id": "2a63aad7",
   "metadata": {},
   "source": [
    "# import function from Math module"
   ]
  },
  {
   "cell_type": "code",
   "execution_count": 24,
   "id": "93cfa120",
   "metadata": {},
   "outputs": [],
   "source": [
    "from math import sqrt   # by using import sqrt in math module can re code directly"
   ]
  },
  {
   "cell_type": "code",
   "execution_count": 25,
   "id": "dbe0f638",
   "metadata": {},
   "outputs": [
    {
     "data": {
      "text/plain": [
       "21.071307505705477"
      ]
     },
     "execution_count": 25,
     "metadata": {},
     "output_type": "execute_result"
    }
   ],
   "source": [
    "sqrt (444)             # like this only sqrt( Not all like math.sqrt )"
   ]
  },
  {
   "cell_type": "code",
   "execution_count": 26,
   "id": "8b155d4c",
   "metadata": {},
   "outputs": [
    {
     "data": {
      "text/plain": [
       "12.0"
      ]
     },
     "execution_count": 26,
     "metadata": {},
     "output_type": "execute_result"
    }
   ],
   "source": [
    "sqrt(144)"
   ]
  },
  {
   "cell_type": "markdown",
   "id": "68f8e0e8",
   "metadata": {},
   "source": [
    "## smilarly as per above we can import pi also"
   ]
  },
  {
   "cell_type": "code",
   "execution_count": 27,
   "id": "7dacd563",
   "metadata": {},
   "outputs": [],
   "source": [
    "from math import pi"
   ]
  },
  {
   "cell_type": "code",
   "execution_count": 30,
   "id": "68b92a3d",
   "metadata": {},
   "outputs": [
    {
     "data": {
      "text/plain": [
       "3.141592653589793"
      ]
     },
     "execution_count": 30,
     "metadata": {},
     "output_type": "execute_result"
    }
   ],
   "source": [
    "pi"
   ]
  },
  {
   "cell_type": "code",
   "execution_count": 29,
   "id": "2a8c90bd",
   "metadata": {},
   "outputs": [
    {
     "data": {
      "text/plain": [
       "6.283185307179586"
      ]
     },
     "execution_count": 29,
     "metadata": {},
     "output_type": "execute_result"
    }
   ],
   "source": [
    "pi*2"
   ]
  },
  {
   "cell_type": "code",
   "execution_count": 31,
   "id": "08079960",
   "metadata": {},
   "outputs": [
    {
     "data": {
      "text/plain": [
       "0.017453292519943295"
      ]
     },
     "execution_count": 31,
     "metadata": {},
     "output_type": "execute_result"
    }
   ],
   "source": [
    "pi/180"
   ]
  },
  {
   "cell_type": "code",
   "execution_count": 32,
   "id": "0e389698",
   "metadata": {},
   "outputs": [
    {
     "data": {
      "text/plain": [
       "0.03490658503988659"
      ]
     },
     "execution_count": 32,
     "metadata": {},
     "output_type": "execute_result"
    }
   ],
   "source": [
    "pi/90"
   ]
  },
  {
   "cell_type": "markdown",
   "id": "14ad7d62",
   "metadata": {},
   "source": [
    "## Similarly as above we can use import for all function like (*)"
   ]
  },
  {
   "cell_type": "code",
   "execution_count": 33,
   "id": "5315ab05",
   "metadata": {},
   "outputs": [],
   "source": [
    "from math import *"
   ]
  },
  {
   "cell_type": "code",
   "execution_count": 34,
   "id": "fbaeb7e3",
   "metadata": {},
   "outputs": [
    {
     "data": {
      "text/plain": [
       "6"
      ]
     },
     "execution_count": 34,
     "metadata": {},
     "output_type": "execute_result"
    }
   ],
   "source": [
    "3*2"
   ]
  },
  {
   "cell_type": "code",
   "execution_count": 35,
   "id": "41e931e4",
   "metadata": {},
   "outputs": [
    {
     "data": {
      "text/plain": [
       "176"
      ]
     },
     "execution_count": 35,
     "metadata": {},
     "output_type": "execute_result"
    }
   ],
   "source": [
    "44*4"
   ]
  },
  {
   "cell_type": "code",
   "execution_count": 36,
   "id": "c9e1eddd",
   "metadata": {},
   "outputs": [
    {
     "data": {
      "text/plain": [
       "300"
      ]
     },
     "execution_count": 36,
     "metadata": {},
     "output_type": "execute_result"
    }
   ],
   "source": [
    "150*2"
   ]
  },
  {
   "cell_type": "code",
   "execution_count": 37,
   "id": "8c716c34",
   "metadata": {},
   "outputs": [
    {
     "data": {
      "text/plain": [
       "13.8"
      ]
     },
     "execution_count": 37,
     "metadata": {},
     "output_type": "execute_result"
    }
   ],
   "source": [
    "3.45*4"
   ]
  },
  {
   "cell_type": "markdown",
   "id": "6d3e40c3",
   "metadata": {},
   "source": [
    "# Import an new custom module by using Python"
   ]
  },
  {
   "cell_type": "code",
   "execution_count": 51,
   "id": "3e864ced",
   "metadata": {},
   "outputs": [
    {
     "ename": "ModuleNotFoundError",
     "evalue": "No module named 'custom'",
     "output_type": "error",
     "traceback": [
      "\u001b[1;31m---------------------------------------------------------------------------\u001b[0m",
      "\u001b[1;31mModuleNotFoundError\u001b[0m                       Traceback (most recent call last)",
      "\u001b[1;32m<ipython-input-51-70cd1f72e183>\u001b[0m in \u001b[0;36m<module>\u001b[1;34m\u001b[0m\n\u001b[1;32m----> 1\u001b[1;33m \u001b[1;32mimport\u001b[0m \u001b[0mcustom\u001b[0m\u001b[1;33m\u001b[0m\u001b[1;33m\u001b[0m\u001b[0m\n\u001b[0m",
      "\u001b[1;31mModuleNotFoundError\u001b[0m: No module named 'custom'"
     ]
    }
   ],
   "source": [
    "import custom"
   ]
  },
  {
   "cell_type": "code",
   "execution_count": 48,
   "id": "9c9f2c12",
   "metadata": {},
   "outputs": [
    {
     "ename": "NameError",
     "evalue": "name 'custom' is not defined",
     "output_type": "error",
     "traceback": [
      "\u001b[1;31m---------------------------------------------------------------------------\u001b[0m",
      "\u001b[1;31mNameError\u001b[0m                                 Traceback (most recent call last)",
      "\u001b[1;32m<ipython-input-48-f68fb88cdfa4>\u001b[0m in \u001b[0;36m<module>\u001b[1;34m\u001b[0m\n\u001b[1;32m----> 1\u001b[1;33m \u001b[0mprint\u001b[0m\u001b[1;33m(\u001b[0m\u001b[0mcustom\u001b[0m\u001b[1;33m.\u001b[0m\u001b[0mvar\u001b[0m\u001b[1;33m)\u001b[0m\u001b[1;33m\u001b[0m\u001b[1;33m\u001b[0m\u001b[0m\n\u001b[0m",
      "\u001b[1;31mNameError\u001b[0m: name 'custom' is not defined"
     ]
    }
   ],
   "source": [
    "print(custom.var)"
   ]
  },
  {
   "cell_type": "markdown",
   "id": "fb82897e",
   "metadata": {},
   "source": [
    "# PACKAGES"
   ]
  },
  {
   "cell_type": "code",
   "execution_count": 52,
   "id": "28606306",
   "metadata": {},
   "outputs": [],
   "source": [
    "                                  #Test_package\n",
    "    #module_1.py     #module_2.py     #module_3.py        #_init_.py"
   ]
  },
  {
   "cell_type": "code",
   "execution_count": 54,
   "id": "b3547a3a",
   "metadata": {},
   "outputs": [],
   "source": [
    "                          # PYTHON PACKAGES\n",
    "#Matplotlib \n",
    "#Numpy\n",
    "#open Cv\n",
    "#etc"
   ]
  },
  {
   "cell_type": "code",
   "execution_count": 56,
   "id": "eaee4af8",
   "metadata": {},
   "outputs": [],
   "source": [
    "# GUI - Graphical  User Interface"
   ]
  },
  {
   "cell_type": "code",
   "execution_count": 57,
   "id": "df48fd83",
   "metadata": {},
   "outputs": [],
   "source": [
    "# Tkinter GUI is famous library\n"
   ]
  },
  {
   "cell_type": "code",
   "execution_count": 5,
   "id": "3f94e7ef",
   "metadata": {},
   "outputs": [
    {
     "name": "stdout",
     "output_type": "stream",
     "text": [
      "46\n"
     ]
    }
   ],
   "source": [
    "# len function used for counting key words\n",
    "\n",
    "x =\"Welcome to Hexnbit Let's start learning Python\"\n",
    "\n",
    "print(len(x))"
   ]
  },
  {
   "cell_type": "code",
   "execution_count": 24,
   "id": "af54c0e1",
   "metadata": {},
   "outputs": [
    {
     "name": "stdout",
     "output_type": "stream",
     "text": [
      "number is odd\n"
     ]
    }
   ],
   "source": [
    "\n",
    "# If STATEMENT\n",
    "\n",
    "num=input(\"enter a number: \")\n",
    "num=int(num)\n",
    "if num%2==0 :\n",
    "    print(\"number in even\")\n",
    "else:\n",
    "        print(\"number is odd\")"
   ]
  },
  {
   "cell_type": "code",
   "execution_count": 25,
   "id": "e03add74",
   "metadata": {},
   "outputs": [
    {
     "data": {
      "text/plain": [
       "False"
      ]
     },
     "execution_count": 25,
     "metadata": {},
     "output_type": "execute_result"
    }
   ],
   "source": [
    "3>2 and 4<1"
   ]
  },
  {
   "cell_type": "code",
   "execution_count": 26,
   "id": "6e1a08c5",
   "metadata": {},
   "outputs": [
    {
     "data": {
      "text/plain": [
       "False"
      ]
     },
     "execution_count": 26,
     "metadata": {},
     "output_type": "execute_result"
    }
   ],
   "source": [
    "3<2 or 4<1"
   ]
  },
  {
   "cell_type": "code",
   "execution_count": 27,
   "id": "c3e6fe78",
   "metadata": {},
   "outputs": [
    {
     "data": {
      "text/plain": [
       "False"
      ]
     },
     "execution_count": 27,
     "metadata": {},
     "output_type": "execute_result"
    }
   ],
   "source": [
    "not True"
   ]
  },
  {
   "cell_type": "code",
   "execution_count": 28,
   "id": "f8496ad6",
   "metadata": {},
   "outputs": [
    {
     "data": {
      "text/plain": [
       "True"
      ]
     },
     "execution_count": 28,
     "metadata": {},
     "output_type": "execute_result"
    }
   ],
   "source": [
    "not False"
   ]
  },
  {
   "cell_type": "code",
   "execution_count": 29,
   "id": "dccafcd2",
   "metadata": {},
   "outputs": [
    {
     "data": {
      "text/plain": [
       "False"
      ]
     },
     "execution_count": 29,
     "metadata": {},
     "output_type": "execute_result"
    }
   ],
   "source": [
    "not 4==4"
   ]
  },
  {
   "cell_type": "code",
   "execution_count": 30,
   "id": "a25fb66b",
   "metadata": {},
   "outputs": [
    {
     "name": "stdout",
     "output_type": "stream",
     "text": [
      "['samosa', 'daal', 'naan']\n"
     ]
    }
   ],
   "source": [
    "indian=[\"samosa\",\"daal\",\"naan\"]\n",
    "print(indian)"
   ]
  },
  {
   "cell_type": "code",
   "execution_count": 31,
   "id": "1176fea7",
   "metadata": {},
   "outputs": [
    {
     "name": "stdout",
     "output_type": "stream",
     "text": [
      "enter a dish name: samosa\n",
      "iam an Indian ,I love my country\n"
     ]
    }
   ],
   "source": [
    "indian=[\"samosa\",\"daal\",\"naan\"]\n",
    "Japan=[\"faltu\",\"mung dal\",\"egg rice\"]\n",
    "china=[\"egg\",\"pig\",\"corona\",\"fish\"]\n",
    "\n",
    "dish=input(\"enter a dish name: \")\n",
    "if dish in indian:\n",
    "    print(\"iam an Indian ,I love my country\")\n",
    "    "
   ]
  },
  {
   "cell_type": "code",
   "execution_count": 36,
   "id": "aa046dbd",
   "metadata": {},
   "outputs": [
    {
     "name": "stdout",
     "output_type": "stream",
     "text": [
      "25.0\n"
     ]
    }
   ],
   "source": [
    "base=10\n",
    "height=5\n",
    "area=1/2 *(base*height)\n",
    "print(area)"
   ]
  },
  {
   "cell_type": "code",
   "execution_count": 1,
   "id": "4d2a23a3",
   "metadata": {},
   "outputs": [
    {
     "name": "stdout",
     "output_type": "stream",
     "text": [
      "Requirement already satisfied: numpy in c:\\users\\vishn\\anaconda3\\lib\\site-packages (1.19.2)Note: you may need to restart the kernel to use updated packages.\n",
      "\n"
     ]
    }
   ],
   "source": [
    "pip install numpy"
   ]
  },
  {
   "cell_type": "code",
   "execution_count": 1,
   "id": "6f84c566",
   "metadata": {},
   "outputs": [],
   "source": [
    "import numpy as np"
   ]
  },
  {
   "cell_type": "code",
   "execution_count": 16,
   "id": "48c52600",
   "metadata": {},
   "outputs": [],
   "source": [
    "a = np.array([1,2,3,5,5,5,6,67,7])"
   ]
  },
  {
   "cell_type": "markdown",
   "id": "6dc7341d",
   "metadata": {},
   "source": [
    "b = np.array"
   ]
  },
  {
   "cell_type": "code",
   "execution_count": 13,
   "id": "b1b0f6ca",
   "metadata": {},
   "outputs": [
    {
     "data": {
      "text/plain": [
       "array([ 1,  2,  3,  5,  5,  5,  6, 67,  7])"
      ]
     },
     "execution_count": 13,
     "metadata": {},
     "output_type": "execute_result"
    }
   ],
   "source": [
    "a"
   ]
  },
  {
   "cell_type": "code",
   "execution_count": 14,
   "id": "5caf7943",
   "metadata": {},
   "outputs": [
    {
     "data": {
      "text/plain": [
       "(9,)"
      ]
     },
     "execution_count": 14,
     "metadata": {},
     "output_type": "execute_result"
    }
   ],
   "source": [
    "a.shape"
   ]
  },
  {
   "cell_type": "code",
   "execution_count": 1,
   "id": "19931bb4",
   "metadata": {},
   "outputs": [
    {
     "name": "stdout",
     "output_type": "stream",
     "text": [
      "56\n",
      "The entered element is even \n"
     ]
    }
   ],
   "source": [
    "num =int(input())\n",
    "\n",
    "if num%2 == 0:\n",
    "    print(\"The entered element is even \")\n",
    "else:\n",
    "    print(\"The entered element is odd \")"
   ]
  },
  {
   "cell_type": "code",
   "execution_count": 40,
   "id": "67ceeeaa",
   "metadata": {},
   "outputs": [],
   "source": [
    "mnu = [23 ,45, 68, 78]\n",
    "\n"
   ]
  },
  {
   "cell_type": "code",
   "execution_count": 44,
   "id": "391487b5",
   "metadata": {},
   "outputs": [],
   "source": [
    "even_num =0\n",
    "odd_num =0\n",
    "\n",
    "for i in mnu:\n",
    "    if i%2==0:\n",
    "        i=i+1\n",
    "        even_num = even_num+1\n",
    "    else:\n",
    "        i= i+1\n",
    "        odd_num =  odd_num+1\n",
    "\n",
    "    "
   ]
  },
  {
   "cell_type": "code",
   "execution_count": 45,
   "id": "1c01f9eb",
   "metadata": {},
   "outputs": [
    {
     "name": "stdout",
     "output_type": "stream",
     "text": [
      "2\n"
     ]
    }
   ],
   "source": [
    "print(odd_num)"
   ]
  },
  {
   "cell_type": "code",
   "execution_count": 46,
   "id": "14001fbe",
   "metadata": {},
   "outputs": [
    {
     "name": "stdout",
     "output_type": "stream",
     "text": [
      "2\n"
     ]
    }
   ],
   "source": [
    "print(even_num)"
   ]
  },
  {
   "cell_type": "code",
   "execution_count": 11,
   "id": "5f418580",
   "metadata": {},
   "outputs": [],
   "source": [
    "list2 =[-1,-3,4,7,99,8,3]"
   ]
  },
  {
   "cell_type": "code",
   "execution_count": 16,
   "id": "30d4d263",
   "metadata": {},
   "outputs": [
    {
     "data": {
      "text/plain": [
       "[4, 7, 99, 8, 3]"
      ]
     },
     "execution_count": 16,
     "metadata": {},
     "output_type": "execute_result"
    }
   ],
   "source": [
    "[i for i in list2 if i > 0]"
   ]
  },
  {
   "cell_type": "code",
   "execution_count": 19,
   "id": "6b903613",
   "metadata": {},
   "outputs": [
    {
     "data": {
      "text/plain": [
       "['I', 'L', 'y']"
      ]
     },
     "execution_count": 19,
     "metadata": {},
     "output_type": "execute_result"
    }
   ],
   "source": [
    "list3 = [\"I\",\"Love\",\"you\"]\n",
    "[word[0] for word in list3]"
   ]
  },
  {
   "cell_type": "code",
   "execution_count": 21,
   "id": "28e97168",
   "metadata": {},
   "outputs": [
    {
     "name": "stdout",
     "output_type": "stream",
     "text": [
      "I\n",
      "L\n",
      "y\n"
     ]
    }
   ],
   "source": [
    "for word in list3:\n",
    "    print(word[0])"
   ]
  },
  {
   "cell_type": "code",
   "execution_count": 23,
   "id": "fc2ab31a",
   "metadata": {},
   "outputs": [
    {
     "name": "stdout",
     "output_type": "stream",
     "text": [
      "32.0\n",
      "50.0\n",
      "68.0\n",
      "86.0\n",
      "104.0\n",
      "122.0\n"
     ]
    }
   ],
   "source": [
    "cel_temp =[0,10,20,30,40,50]\n",
    "for temp in cel_temp :\n",
    "    print((9/5)*temp+32)"
   ]
  },
  {
   "cell_type": "code",
   "execution_count": 24,
   "id": "3768b766",
   "metadata": {},
   "outputs": [
    {
     "data": {
      "text/plain": [
       "[32.0, 50.0, 68.0, 86.0, 104.0, 122.0]"
      ]
     },
     "execution_count": 24,
     "metadata": {},
     "output_type": "execute_result"
    }
   ],
   "source": [
    "[(9/5)*temp+32 for temp in cel_temp]"
   ]
  },
  {
   "cell_type": "code",
   "execution_count": 25,
   "id": "7ac9ccb3",
   "metadata": {},
   "outputs": [],
   "source": [
    "list = [[1,2,3],[4,5,6],[7,8,9]]"
   ]
  },
  {
   "cell_type": "code",
   "execution_count": 35,
   "id": "d0bea522",
   "metadata": {},
   "outputs": [
    {
     "name": "stdout",
     "output_type": "stream",
     "text": [
      "1\n",
      "2\n",
      "3\n",
      "4\n",
      "5\n",
      "6\n",
      "7\n",
      "8\n",
      "9\n"
     ]
    },
    {
     "data": {
      "text/plain": [
       "[1, 2, 3, 4, 5, 6, 7, 8, 9]"
      ]
     },
     "execution_count": 35,
     "metadata": {},
     "output_type": "execute_result"
    }
   ],
   "source": [
    "for i in list:\n",
    "    for j in i :\n",
    "        print(j)\n",
    "[i for j in list for i in j]         \n",
    "        "
   ]
  },
  {
   "cell_type": "code",
   "execution_count": null,
   "id": "f152cb82",
   "metadata": {},
   "outputs": [],
   "source": []
  }
 ],
 "metadata": {
  "kernelspec": {
   "display_name": "Python 3 (ipykernel)",
   "language": "python",
   "name": "python3"
  },
  "language_info": {
   "codemirror_mode": {
    "name": "ipython",
    "version": 3
   },
   "file_extension": ".py",
   "mimetype": "text/x-python",
   "name": "python",
   "nbconvert_exporter": "python",
   "pygments_lexer": "ipython3",
   "version": "3.9.12"
  }
 },
 "nbformat": 4,
 "nbformat_minor": 5
}
